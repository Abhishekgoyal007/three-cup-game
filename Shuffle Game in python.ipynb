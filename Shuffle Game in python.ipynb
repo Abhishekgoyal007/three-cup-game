{
 "cells": [
  {
   "cell_type": "code",
   "execution_count": 22,
   "id": "0ea1011f",
   "metadata": {},
   "outputs": [
    {
     "name": "stdout",
     "output_type": "stream",
     "text": [
      "[4, 0, 8, 6, 7, 6, 1]\n"
     ]
    }
   ],
   "source": [
    "example = [1,6,4,6,7,8,0] #example of shuffling \n",
    "from random import shuffle\n",
    "shuffle(example) # This shuffle do not return anything\n",
    "print(example)"
   ]
  },
  {
   "cell_type": "code",
   "execution_count": 11,
   "id": "54d4cd15",
   "metadata": {},
   "outputs": [],
   "source": [
    "# First we will create a shuffle list function\n",
    "def shuffle_list(my_list):\n",
    "    shuffle(my_list)\n",
    "    return my_list"
   ]
  },
  {
   "cell_type": "code",
   "execution_count": 19,
   "id": "3f147a7e",
   "metadata": {},
   "outputs": [],
   "source": [
    "def player_guess(): # this is for player guess \n",
    "    guess = ''\n",
    "    while guess not in ['0','1','2']:\n",
    "        guess = input(\"pick a number 0 1 2: \")\n",
    "    return int(guess)"
   ]
  },
  {
   "cell_type": "code",
   "execution_count": 35,
   "id": "efa5f141",
   "metadata": {},
   "outputs": [],
   "source": [
    "def check_guess(my_list,guess):\n",
    "    if my_list[guess] == 'O':\n",
    "        print(\"Yayy! You won\")\n",
    "    else:\n",
    "        print(\"Better luck next time\")\n",
    "    print(my_list)"
   ]
  },
  {
   "cell_type": "code",
   "execution_count": 36,
   "id": "db34d029",
   "metadata": {},
   "outputs": [
    {
     "name": "stdout",
     "output_type": "stream",
     "text": [
      "pick a number 0 1 2: 0\n",
      "Yayy! You won\n",
      "['O', ' ', ' ']\n"
     ]
    }
   ],
   "source": [
    "# Initalising list\n",
    "my_list = [' ','O',' ']\n",
    "# Shuffling list\n",
    "mixed_list = shuffle_list(my_list)\n",
    "# User Guess\n",
    "guess = player_guess()\n",
    "# Check Guess\n",
    "check_guess(mixed_list,guess)"
   ]
  },
  {
   "cell_type": "code",
   "execution_count": null,
   "id": "29b6001c",
   "metadata": {},
   "outputs": [],
   "source": []
  }
 ],
 "metadata": {
  "kernelspec": {
   "display_name": "Python 3 (ipykernel)",
   "language": "python",
   "name": "python3"
  },
  "language_info": {
   "codemirror_mode": {
    "name": "ipython",
    "version": 3
   },
   "file_extension": ".py",
   "mimetype": "text/x-python",
   "name": "python",
   "nbconvert_exporter": "python",
   "pygments_lexer": "ipython3",
   "version": "3.11.5"
  }
 },
 "nbformat": 4,
 "nbformat_minor": 5
}
